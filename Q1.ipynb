{
 "cells": [
  {
   "cell_type": "code",
   "execution_count": 26,
   "metadata": {},
   "outputs": [
    {
     "name": "stdout",
     "output_type": "stream",
     "text": [
      "Requirement already satisfied: tqdm in c:\\users\\hebuw\\.conda\\envs\\tensorflow_env\\lib\\site-packages (4.67.1)\n",
      "Requirement already satisfied: colorama in c:\\users\\hebuw\\.conda\\envs\\tensorflow_env\\lib\\site-packages (from tqdm) (0.4.6)\n"
     ]
    }
   ],
   "source": [
    "!pip install tqdm\n"
   ]
  },
  {
   "cell_type": "code",
   "execution_count": 27,
   "metadata": {},
   "outputs": [
    {
     "name": "stdout",
     "output_type": "stream",
     "text": [
      "Downloading: https://github.com/DataTalksClub/nyc-tlc-data/releases/download/yellow/yellow_tripdata_2020-12.csv.gz\n"
     ]
    },
    {
     "name": "stderr",
     "output_type": "stream",
     "text": [
      "yellow_tripdata_2020-12.csv.gz: 100%|██████████| 26.5M/26.5M [00:02<00:00, 11.9MiB/s]\n"
     ]
    },
    {
     "name": "stdout",
     "output_type": "stream",
     "text": [
      "Downloaded: yellow_tripdata_2020-12.csv.gz\n",
      "Extracted: yellow_tripdata_2020-12.csv\n",
      "Uncompressed file size of yellow_tripdata_2020-12.csv: 128.3 MB\n",
      "Downloading: https://github.com/DataTalksClub/nyc-tlc-data/releases/download/yellow/yellow_tripdata_2020-01.csv.gz\n"
     ]
    },
    {
     "name": "stderr",
     "output_type": "stream",
     "text": [
      "yellow_tripdata_2020-01.csv.gz: 100%|██████████| 116M/116M [00:03<00:00, 38.2MiB/s] \n"
     ]
    },
    {
     "name": "stdout",
     "output_type": "stream",
     "text": [
      "Downloaded: yellow_tripdata_2020-01.csv.gz\n",
      "Extracted: yellow_tripdata_2020-01.csv\n"
     ]
    },
    {
     "name": "stderr",
     "output_type": "stream",
     "text": [
      "C:\\Users\\hebuw\\AppData\\Local\\Temp\\ipykernel_29436\\2689651025.py:73: DtypeWarning: Columns (6) have mixed types. Specify dtype option on import or set low_memory=False.\n",
      "  df = pd.read_csv(csv_file)\n"
     ]
    },
    {
     "name": "stdout",
     "output_type": "stream",
     "text": [
      "Downloading: https://github.com/DataTalksClub/nyc-tlc-data/releases/download/yellow/yellow_tripdata_2020-02.csv.gz\n"
     ]
    },
    {
     "name": "stderr",
     "output_type": "stream",
     "text": [
      "yellow_tripdata_2020-02.csv.gz: 100%|██████████| 115M/115M [00:05<00:00, 21.5MiB/s] \n"
     ]
    },
    {
     "name": "stdout",
     "output_type": "stream",
     "text": [
      "Downloaded: yellow_tripdata_2020-02.csv.gz\n",
      "Extracted: yellow_tripdata_2020-02.csv\n"
     ]
    },
    {
     "name": "stderr",
     "output_type": "stream",
     "text": [
      "C:\\Users\\hebuw\\AppData\\Local\\Temp\\ipykernel_29436\\2689651025.py:73: DtypeWarning: Columns (6) have mixed types. Specify dtype option on import or set low_memory=False.\n",
      "  df = pd.read_csv(csv_file)\n"
     ]
    },
    {
     "name": "stdout",
     "output_type": "stream",
     "text": [
      "Downloading: https://github.com/DataTalksClub/nyc-tlc-data/releases/download/yellow/yellow_tripdata_2020-03.csv.gz\n"
     ]
    },
    {
     "name": "stderr",
     "output_type": "stream",
     "text": [
      "yellow_tripdata_2020-03.csv.gz: 100%|██████████| 55.0M/55.0M [00:04<00:00, 13.3MiB/s]\n"
     ]
    },
    {
     "name": "stdout",
     "output_type": "stream",
     "text": [
      "Downloaded: yellow_tripdata_2020-03.csv.gz\n",
      "Extracted: yellow_tripdata_2020-03.csv\n"
     ]
    },
    {
     "name": "stderr",
     "output_type": "stream",
     "text": [
      "C:\\Users\\hebuw\\AppData\\Local\\Temp\\ipykernel_29436\\2689651025.py:73: DtypeWarning: Columns (6) have mixed types. Specify dtype option on import or set low_memory=False.\n",
      "  df = pd.read_csv(csv_file)\n"
     ]
    },
    {
     "name": "stdout",
     "output_type": "stream",
     "text": [
      "Downloading: https://github.com/DataTalksClub/nyc-tlc-data/releases/download/yellow/yellow_tripdata_2020-04.csv.gz\n"
     ]
    },
    {
     "name": "stderr",
     "output_type": "stream",
     "text": [
      "yellow_tripdata_2020-04.csv.gz: 100%|██████████| 4.43M/4.43M [00:00<00:00, 7.64MiB/s]\n"
     ]
    },
    {
     "name": "stdout",
     "output_type": "stream",
     "text": [
      "Downloaded: yellow_tripdata_2020-04.csv.gz\n",
      "Extracted: yellow_tripdata_2020-04.csv\n"
     ]
    },
    {
     "name": "stderr",
     "output_type": "stream",
     "text": [
      "C:\\Users\\hebuw\\AppData\\Local\\Temp\\ipykernel_29436\\2689651025.py:73: DtypeWarning: Columns (6) have mixed types. Specify dtype option on import or set low_memory=False.\n",
      "  df = pd.read_csv(csv_file)\n"
     ]
    },
    {
     "name": "stdout",
     "output_type": "stream",
     "text": [
      "Downloading: https://github.com/DataTalksClub/nyc-tlc-data/releases/download/yellow/yellow_tripdata_2020-05.csv.gz\n"
     ]
    },
    {
     "name": "stderr",
     "output_type": "stream",
     "text": [
      "yellow_tripdata_2020-05.csv.gz: 100%|██████████| 6.53M/6.53M [00:00<00:00, 10.8MiB/s]\n"
     ]
    },
    {
     "name": "stdout",
     "output_type": "stream",
     "text": [
      "Downloaded: yellow_tripdata_2020-05.csv.gz\n",
      "Extracted: yellow_tripdata_2020-05.csv\n"
     ]
    },
    {
     "name": "stderr",
     "output_type": "stream",
     "text": [
      "C:\\Users\\hebuw\\AppData\\Local\\Temp\\ipykernel_29436\\2689651025.py:73: DtypeWarning: Columns (6) have mixed types. Specify dtype option on import or set low_memory=False.\n",
      "  df = pd.read_csv(csv_file)\n"
     ]
    },
    {
     "name": "stdout",
     "output_type": "stream",
     "text": [
      "Downloading: https://github.com/DataTalksClub/nyc-tlc-data/releases/download/yellow/yellow_tripdata_2020-06.csv.gz\n"
     ]
    },
    {
     "name": "stderr",
     "output_type": "stream",
     "text": [
      "yellow_tripdata_2020-06.csv.gz: 100%|██████████| 10.2M/10.2M [00:01<00:00, 7.88MiB/s]\n"
     ]
    },
    {
     "name": "stdout",
     "output_type": "stream",
     "text": [
      "Downloaded: yellow_tripdata_2020-06.csv.gz\n",
      "Extracted: yellow_tripdata_2020-06.csv\n"
     ]
    },
    {
     "name": "stderr",
     "output_type": "stream",
     "text": [
      "C:\\Users\\hebuw\\AppData\\Local\\Temp\\ipykernel_29436\\2689651025.py:73: DtypeWarning: Columns (6) have mixed types. Specify dtype option on import or set low_memory=False.\n",
      "  df = pd.read_csv(csv_file)\n"
     ]
    },
    {
     "name": "stdout",
     "output_type": "stream",
     "text": [
      "Downloading: https://github.com/DataTalksClub/nyc-tlc-data/releases/download/yellow/yellow_tripdata_2020-07.csv.gz\n"
     ]
    },
    {
     "name": "stderr",
     "output_type": "stream",
     "text": [
      "yellow_tripdata_2020-07.csv.gz: 100%|██████████| 14.7M/14.7M [00:00<00:00, 16.1MiB/s]\n"
     ]
    },
    {
     "name": "stdout",
     "output_type": "stream",
     "text": [
      "Downloaded: yellow_tripdata_2020-07.csv.gz\n",
      "Extracted: yellow_tripdata_2020-07.csv\n"
     ]
    },
    {
     "name": "stderr",
     "output_type": "stream",
     "text": [
      "C:\\Users\\hebuw\\AppData\\Local\\Temp\\ipykernel_29436\\2689651025.py:73: DtypeWarning: Columns (6) have mixed types. Specify dtype option on import or set low_memory=False.\n",
      "  df = pd.read_csv(csv_file)\n"
     ]
    },
    {
     "name": "stdout",
     "output_type": "stream",
     "text": [
      "Downloading: https://github.com/DataTalksClub/nyc-tlc-data/releases/download/yellow/yellow_tripdata_2020-08.csv.gz\n"
     ]
    },
    {
     "name": "stderr",
     "output_type": "stream",
     "text": [
      "yellow_tripdata_2020-08.csv.gz: 100%|██████████| 18.5M/18.5M [00:00<00:00, 20.4MiB/s]\n"
     ]
    },
    {
     "name": "stdout",
     "output_type": "stream",
     "text": [
      "Downloaded: yellow_tripdata_2020-08.csv.gz\n",
      "Extracted: yellow_tripdata_2020-08.csv\n"
     ]
    },
    {
     "name": "stderr",
     "output_type": "stream",
     "text": [
      "C:\\Users\\hebuw\\AppData\\Local\\Temp\\ipykernel_29436\\2689651025.py:73: DtypeWarning: Columns (6) have mixed types. Specify dtype option on import or set low_memory=False.\n",
      "  df = pd.read_csv(csv_file)\n"
     ]
    },
    {
     "name": "stdout",
     "output_type": "stream",
     "text": [
      "Downloading: https://github.com/DataTalksClub/nyc-tlc-data/releases/download/yellow/yellow_tripdata_2020-09.csv.gz\n"
     ]
    },
    {
     "name": "stderr",
     "output_type": "stream",
     "text": [
      "yellow_tripdata_2020-09.csv.gz: 100%|██████████| 24.5M/24.5M [00:00<00:00, 26.3MiB/s]\n"
     ]
    },
    {
     "name": "stdout",
     "output_type": "stream",
     "text": [
      "Downloaded: yellow_tripdata_2020-09.csv.gz\n",
      "Extracted: yellow_tripdata_2020-09.csv\n"
     ]
    },
    {
     "name": "stderr",
     "output_type": "stream",
     "text": [
      "C:\\Users\\hebuw\\AppData\\Local\\Temp\\ipykernel_29436\\2689651025.py:73: DtypeWarning: Columns (6) have mixed types. Specify dtype option on import or set low_memory=False.\n",
      "  df = pd.read_csv(csv_file)\n"
     ]
    },
    {
     "name": "stdout",
     "output_type": "stream",
     "text": [
      "Downloading: https://github.com/DataTalksClub/nyc-tlc-data/releases/download/yellow/yellow_tripdata_2020-10.csv.gz\n"
     ]
    },
    {
     "name": "stderr",
     "output_type": "stream",
     "text": [
      "yellow_tripdata_2020-10.csv.gz: 100%|██████████| 30.7M/30.7M [00:01<00:00, 15.4MiB/s]\n"
     ]
    },
    {
     "name": "stdout",
     "output_type": "stream",
     "text": [
      "Downloaded: yellow_tripdata_2020-10.csv.gz\n",
      "Extracted: yellow_tripdata_2020-10.csv\n"
     ]
    },
    {
     "name": "stderr",
     "output_type": "stream",
     "text": [
      "C:\\Users\\hebuw\\AppData\\Local\\Temp\\ipykernel_29436\\2689651025.py:73: DtypeWarning: Columns (6) have mixed types. Specify dtype option on import or set low_memory=False.\n",
      "  df = pd.read_csv(csv_file)\n"
     ]
    },
    {
     "name": "stdout",
     "output_type": "stream",
     "text": [
      "Downloading: https://github.com/DataTalksClub/nyc-tlc-data/releases/download/yellow/yellow_tripdata_2020-11.csv.gz\n"
     ]
    },
    {
     "name": "stderr",
     "output_type": "stream",
     "text": [
      "yellow_tripdata_2020-11.csv.gz: 100%|██████████| 27.5M/27.5M [00:01<00:00, 24.5MiB/s]\n"
     ]
    },
    {
     "name": "stdout",
     "output_type": "stream",
     "text": [
      "Downloaded: yellow_tripdata_2020-11.csv.gz\n",
      "Extracted: yellow_tripdata_2020-11.csv\n"
     ]
    },
    {
     "name": "stderr",
     "output_type": "stream",
     "text": [
      "C:\\Users\\hebuw\\AppData\\Local\\Temp\\ipykernel_29436\\2689651025.py:73: DtypeWarning: Columns (6) have mixed types. Specify dtype option on import or set low_memory=False.\n",
      "  df = pd.read_csv(csv_file)\n"
     ]
    },
    {
     "name": "stdout",
     "output_type": "stream",
     "text": [
      "Downloading: https://github.com/DataTalksClub/nyc-tlc-data/releases/download/yellow/yellow_tripdata_2020-12.csv.gz\n"
     ]
    },
    {
     "name": "stderr",
     "output_type": "stream",
     "text": [
      "yellow_tripdata_2020-12.csv.gz: 100%|██████████| 26.5M/26.5M [00:02<00:00, 12.5MiB/s]\n"
     ]
    },
    {
     "name": "stdout",
     "output_type": "stream",
     "text": [
      "Downloaded: yellow_tripdata_2020-12.csv.gz\n",
      "Extracted: yellow_tripdata_2020-12.csv\n"
     ]
    },
    {
     "name": "stderr",
     "output_type": "stream",
     "text": [
      "C:\\Users\\hebuw\\AppData\\Local\\Temp\\ipykernel_29436\\2689651025.py:73: DtypeWarning: Columns (6) have mixed types. Specify dtype option on import or set low_memory=False.\n",
      "  df = pd.read_csv(csv_file)\n"
     ]
    },
    {
     "name": "stdout",
     "output_type": "stream",
     "text": [
      "Total Yellow Taxi rows for 2020: 24648499\n",
      "Downloading: https://github.com/DataTalksClub/nyc-tlc-data/releases/download/green/green_tripdata_2020-01.csv.gz\n"
     ]
    },
    {
     "name": "stderr",
     "output_type": "stream",
     "text": [
      "green_tripdata_2020-01.csv.gz: 100%|██████████| 7.54M/7.54M [00:00<00:00, 12.8MiB/s]\n"
     ]
    },
    {
     "name": "stdout",
     "output_type": "stream",
     "text": [
      "Downloaded: green_tripdata_2020-01.csv.gz\n",
      "Extracted: green_tripdata_2020-01.csv\n"
     ]
    },
    {
     "name": "stderr",
     "output_type": "stream",
     "text": [
      "C:\\Users\\hebuw\\AppData\\Local\\Temp\\ipykernel_29436\\2689651025.py:73: DtypeWarning: Columns (3) have mixed types. Specify dtype option on import or set low_memory=False.\n",
      "  df = pd.read_csv(csv_file)\n"
     ]
    },
    {
     "name": "stdout",
     "output_type": "stream",
     "text": [
      "Downloading: https://github.com/DataTalksClub/nyc-tlc-data/releases/download/green/green_tripdata_2020-02.csv.gz\n"
     ]
    },
    {
     "name": "stderr",
     "output_type": "stream",
     "text": [
      "green_tripdata_2020-02.csv.gz: 100%|██████████| 6.89M/6.89M [00:00<00:00, 9.23MiB/s]\n"
     ]
    },
    {
     "name": "stdout",
     "output_type": "stream",
     "text": [
      "Downloaded: green_tripdata_2020-02.csv.gz\n",
      "Extracted: green_tripdata_2020-02.csv\n"
     ]
    },
    {
     "name": "stderr",
     "output_type": "stream",
     "text": [
      "C:\\Users\\hebuw\\AppData\\Local\\Temp\\ipykernel_29436\\2689651025.py:73: DtypeWarning: Columns (3) have mixed types. Specify dtype option on import or set low_memory=False.\n",
      "  df = pd.read_csv(csv_file)\n"
     ]
    },
    {
     "name": "stdout",
     "output_type": "stream",
     "text": [
      "Downloading: https://github.com/DataTalksClub/nyc-tlc-data/releases/download/green/green_tripdata_2020-03.csv.gz\n"
     ]
    },
    {
     "name": "stderr",
     "output_type": "stream",
     "text": [
      "green_tripdata_2020-03.csv.gz: 100%|██████████| 3.92M/3.92M [00:00<00:00, 6.02MiB/s]\n"
     ]
    },
    {
     "name": "stdout",
     "output_type": "stream",
     "text": [
      "Downloaded: green_tripdata_2020-03.csv.gz\n",
      "Extracted: green_tripdata_2020-03.csv\n"
     ]
    },
    {
     "name": "stderr",
     "output_type": "stream",
     "text": [
      "C:\\Users\\hebuw\\AppData\\Local\\Temp\\ipykernel_29436\\2689651025.py:73: DtypeWarning: Columns (3) have mixed types. Specify dtype option on import or set low_memory=False.\n",
      "  df = pd.read_csv(csv_file)\n"
     ]
    },
    {
     "name": "stdout",
     "output_type": "stream",
     "text": [
      "Downloading: https://github.com/DataTalksClub/nyc-tlc-data/releases/download/green/green_tripdata_2020-04.csv.gz\n"
     ]
    },
    {
     "name": "stderr",
     "output_type": "stream",
     "text": [
      "green_tripdata_2020-04.csv.gz: 100%|██████████| 670k/670k [00:00<00:00, 2.31MiB/s]\n"
     ]
    },
    {
     "name": "stdout",
     "output_type": "stream",
     "text": [
      "Downloaded: green_tripdata_2020-04.csv.gz\n",
      "Extracted: green_tripdata_2020-04.csv\n"
     ]
    },
    {
     "name": "stderr",
     "output_type": "stream",
     "text": [
      "C:\\Users\\hebuw\\AppData\\Local\\Temp\\ipykernel_29436\\2689651025.py:73: DtypeWarning: Columns (3) have mixed types. Specify dtype option on import or set low_memory=False.\n",
      "  df = pd.read_csv(csv_file)\n"
     ]
    },
    {
     "name": "stdout",
     "output_type": "stream",
     "text": [
      "Downloading: https://github.com/DataTalksClub/nyc-tlc-data/releases/download/green/green_tripdata_2020-05.csv.gz\n"
     ]
    },
    {
     "name": "stderr",
     "output_type": "stream",
     "text": [
      "green_tripdata_2020-05.csv.gz: 100%|██████████| 1.06M/1.06M [00:00<00:00, 2.03MiB/s]\n"
     ]
    },
    {
     "name": "stdout",
     "output_type": "stream",
     "text": [
      "Downloaded: green_tripdata_2020-05.csv.gz\n",
      "Extracted: green_tripdata_2020-05.csv\n"
     ]
    },
    {
     "name": "stderr",
     "output_type": "stream",
     "text": [
      "C:\\Users\\hebuw\\AppData\\Local\\Temp\\ipykernel_29436\\2689651025.py:73: DtypeWarning: Columns (3) have mixed types. Specify dtype option on import or set low_memory=False.\n",
      "  df = pd.read_csv(csv_file)\n"
     ]
    },
    {
     "name": "stdout",
     "output_type": "stream",
     "text": [
      "Downloading: https://github.com/DataTalksClub/nyc-tlc-data/releases/download/green/green_tripdata_2020-06.csv.gz\n"
     ]
    },
    {
     "name": "stderr",
     "output_type": "stream",
     "text": [
      "green_tripdata_2020-06.csv.gz: 100%|██████████| 1.15M/1.15M [00:00<00:00, 3.08MiB/s]\n"
     ]
    },
    {
     "name": "stdout",
     "output_type": "stream",
     "text": [
      "Downloaded: green_tripdata_2020-06.csv.gz\n",
      "Extracted: green_tripdata_2020-06.csv\n",
      "Downloading: https://github.com/DataTalksClub/nyc-tlc-data/releases/download/green/green_tripdata_2020-07.csv.gz\n"
     ]
    },
    {
     "name": "stderr",
     "output_type": "stream",
     "text": [
      "green_tripdata_2020-07.csv.gz: 100%|██████████| 1.31M/1.31M [00:00<00:00, 3.39MiB/s]\n"
     ]
    },
    {
     "name": "stdout",
     "output_type": "stream",
     "text": [
      "Downloaded: green_tripdata_2020-07.csv.gz\n",
      "Extracted: green_tripdata_2020-07.csv\n"
     ]
    },
    {
     "name": "stderr",
     "output_type": "stream",
     "text": [
      "C:\\Users\\hebuw\\AppData\\Local\\Temp\\ipykernel_29436\\2689651025.py:73: DtypeWarning: Columns (3) have mixed types. Specify dtype option on import or set low_memory=False.\n",
      "  df = pd.read_csv(csv_file)\n"
     ]
    },
    {
     "name": "stdout",
     "output_type": "stream",
     "text": [
      "Downloading: https://github.com/DataTalksClub/nyc-tlc-data/releases/download/green/green_tripdata_2020-08.csv.gz\n"
     ]
    },
    {
     "name": "stderr",
     "output_type": "stream",
     "text": [
      "green_tripdata_2020-08.csv.gz: 100%|██████████| 1.47M/1.47M [00:00<00:00, 3.79MiB/s]\n"
     ]
    },
    {
     "name": "stdout",
     "output_type": "stream",
     "text": [
      "Downloaded: green_tripdata_2020-08.csv.gz\n",
      "Extracted: green_tripdata_2020-08.csv\n"
     ]
    },
    {
     "name": "stderr",
     "output_type": "stream",
     "text": [
      "C:\\Users\\hebuw\\AppData\\Local\\Temp\\ipykernel_29436\\2689651025.py:73: DtypeWarning: Columns (3) have mixed types. Specify dtype option on import or set low_memory=False.\n",
      "  df = pd.read_csv(csv_file)\n"
     ]
    },
    {
     "name": "stdout",
     "output_type": "stream",
     "text": [
      "Downloading: https://github.com/DataTalksClub/nyc-tlc-data/releases/download/green/green_tripdata_2020-09.csv.gz\n"
     ]
    },
    {
     "name": "stderr",
     "output_type": "stream",
     "text": [
      "green_tripdata_2020-09.csv.gz: 100%|██████████| 1.58M/1.58M [00:00<00:00, 3.33MiB/s]\n"
     ]
    },
    {
     "name": "stdout",
     "output_type": "stream",
     "text": [
      "Downloaded: green_tripdata_2020-09.csv.gz\n",
      "Extracted: green_tripdata_2020-09.csv\n"
     ]
    },
    {
     "name": "stderr",
     "output_type": "stream",
     "text": [
      "C:\\Users\\hebuw\\AppData\\Local\\Temp\\ipykernel_29436\\2689651025.py:73: DtypeWarning: Columns (3) have mixed types. Specify dtype option on import or set low_memory=False.\n",
      "  df = pd.read_csv(csv_file)\n"
     ]
    },
    {
     "name": "stdout",
     "output_type": "stream",
     "text": [
      "Downloading: https://github.com/DataTalksClub/nyc-tlc-data/releases/download/green/green_tripdata_2020-10.csv.gz\n",
      "Error downloading file: ('Connection aborted.', ConnectionResetError(10054, 'An existing connection was forcibly closed by the remote host', None, 10054, None))\n",
      "File not found: None\n",
      "Downloading: https://github.com/DataTalksClub/nyc-tlc-data/releases/download/green/green_tripdata_2020-11.csv.gz\n"
     ]
    },
    {
     "name": "stderr",
     "output_type": "stream",
     "text": [
      "green_tripdata_2020-11.csv.gz: 100%|██████████| 1.57M/1.57M [00:00<00:00, 3.76MiB/s]\n"
     ]
    },
    {
     "name": "stdout",
     "output_type": "stream",
     "text": [
      "Downloaded: green_tripdata_2020-11.csv.gz\n",
      "Extracted: green_tripdata_2020-11.csv\n"
     ]
    },
    {
     "name": "stderr",
     "output_type": "stream",
     "text": [
      "C:\\Users\\hebuw\\AppData\\Local\\Temp\\ipykernel_29436\\2689651025.py:73: DtypeWarning: Columns (3) have mixed types. Specify dtype option on import or set low_memory=False.\n",
      "  df = pd.read_csv(csv_file)\n"
     ]
    },
    {
     "name": "stdout",
     "output_type": "stream",
     "text": [
      "Downloading: https://github.com/DataTalksClub/nyc-tlc-data/releases/download/green/green_tripdata_2020-12.csv.gz\n"
     ]
    },
    {
     "name": "stderr",
     "output_type": "stream",
     "text": [
      "green_tripdata_2020-12.csv.gz: 100%|██████████| 1.47M/1.47M [00:00<00:00, 3.01MiB/s]\n"
     ]
    },
    {
     "name": "stdout",
     "output_type": "stream",
     "text": [
      "Downloaded: green_tripdata_2020-12.csv.gz\n",
      "Extracted: green_tripdata_2020-12.csv\n"
     ]
    },
    {
     "name": "stderr",
     "output_type": "stream",
     "text": [
      "C:\\Users\\hebuw\\AppData\\Local\\Temp\\ipykernel_29436\\2689651025.py:73: DtypeWarning: Columns (3) have mixed types. Specify dtype option on import or set low_memory=False.\n",
      "  df = pd.read_csv(csv_file)\n"
     ]
    },
    {
     "name": "stdout",
     "output_type": "stream",
     "text": [
      "Total Green Taxi rows for 2020: 1638931\n",
      "Downloading: https://github.com/DataTalksClub/nyc-tlc-data/releases/download/yellow/yellow_tripdata_2021-03.csv.gz\n"
     ]
    },
    {
     "name": "stderr",
     "output_type": "stream",
     "text": [
      "yellow_tripdata_2021-03.csv.gz: 100%|██████████| 35.2M/35.2M [00:01<00:00, 24.9MiB/s]\n"
     ]
    },
    {
     "name": "stdout",
     "output_type": "stream",
     "text": [
      "Downloaded: yellow_tripdata_2021-03.csv.gz\n",
      "Extracted: yellow_tripdata_2021-03.csv\n"
     ]
    },
    {
     "name": "stderr",
     "output_type": "stream",
     "text": [
      "C:\\Users\\hebuw\\AppData\\Local\\Temp\\ipykernel_29436\\2689651025.py:73: DtypeWarning: Columns (6) have mixed types. Specify dtype option on import or set low_memory=False.\n",
      "  df = pd.read_csv(csv_file)\n"
     ]
    },
    {
     "name": "stdout",
     "output_type": "stream",
     "text": [
      "Yellow Taxi rows for March 2021: 1925152\n",
      "Rendered file name: green_tripdata_2020-04.csv\n",
      "Correct timezone configuration: timezone = 'America/New_York'\n"
     ]
    }
   ],
   "source": [
    "import os\n",
    "import pandas as pd\n",
    "import requests\n",
    "import gzip\n",
    "import shutil\n",
    "from tqdm import tqdm  # For progress bar\n",
    "\n",
    "# Define constants\n",
    "BASE_URL = \"https://github.com/DataTalksClub/nyc-tlc-data/releases/download/\"\n",
    "\n",
    "# Function to download files with progress bar\n",
    "def download_csv(taxi, year, month):\n",
    "    filename = f\"{taxi}_tripdata_{year}-{month:02d}.csv.gz\"\n",
    "    url = f\"{BASE_URL}{taxi}/{filename}\"\n",
    "    \n",
    "    print(f\"Downloading: {url}\")\n",
    "    \n",
    "    # Stream the request with timeout\n",
    "    try:\n",
    "        response = requests.get(url, stream=True, timeout=15)\n",
    "        response.raise_for_status()  # Raise an error for bad status codes\n",
    "\n",
    "        # Get the total file size\n",
    "        total_size = int(response.headers.get('content-length', 0))\n",
    "        block_size = 1024  # 1 Kibibyte\n",
    "\n",
    "        # Download with progress bar\n",
    "        with open(filename, \"wb\") as file, tqdm(\n",
    "            total=total_size, unit='iB', unit_scale=True, desc=filename\n",
    "        ) as bar:\n",
    "            for data in response.iter_content(block_size):\n",
    "                bar.update(len(data))\n",
    "                file.write(data)\n",
    "        \n",
    "        print(f\"Downloaded: {filename}\")\n",
    "        return filename\n",
    "    except requests.exceptions.Timeout:\n",
    "        print(\"Download timed out!\")\n",
    "        return None\n",
    "    except requests.exceptions.RequestException as e:\n",
    "        print(f\"Error downloading file: {e}\")\n",
    "        return None\n",
    "\n",
    "# Function to extract .gz files using Python\n",
    "def extract_gz(gz_file):\n",
    "    if gz_file and os.path.exists(gz_file):\n",
    "        csv_file = gz_file.replace(\".gz\", \"\")\n",
    "        with gzip.open(gz_file, 'rb') as f_in:\n",
    "            with open(csv_file, 'wb') as f_out:\n",
    "                shutil.copyfileobj(f_in, f_out)\n",
    "        print(f\"Extracted: {csv_file}\")\n",
    "        return csv_file\n",
    "    else:\n",
    "        print(f\"File not found: {gz_file}\")\n",
    "        return None\n",
    "\n",
    "# Download & extract Yellow Taxi December 2020 dataset\n",
    "yellow_dec_2020_file = download_csv(\"yellow\", 2020, 12)\n",
    "csv_file = extract_gz(yellow_dec_2020_file)\n",
    "\n",
    "# Compute file size if extraction is successful\n",
    "if csv_file:\n",
    "    file_size = os.path.getsize(csv_file) / (1024 * 1024)  # Convert bytes to MB\n",
    "    print(f\"Uncompressed file size of {csv_file}: {file_size:.1f} MB\")\n",
    "\n",
    "# Function to load and count rows\n",
    "def count_rows(taxi, year, months):\n",
    "    total_rows = 0\n",
    "    for month in months:\n",
    "        file = download_csv(taxi, year, month)\n",
    "        csv_file = extract_gz(file)\n",
    "        if csv_file:\n",
    "            df = pd.read_csv(csv_file)\n",
    "            total_rows += df.shape[0]\n",
    "    return total_rows\n",
    "\n",
    "# Get row count for Yellow Taxi 2020\n",
    "yellow_2020_rows = count_rows(\"yellow\", 2020, list(range(1, 13)))\n",
    "print(f\"Total Yellow Taxi rows for 2020: {yellow_2020_rows}\")\n",
    "\n",
    "# Get row count for Green Taxi 2020\n",
    "green_2020_rows = count_rows(\"green\", 2020, list(range(1, 13)))\n",
    "print(f\"Total Green Taxi rows for 2020: {green_2020_rows}\")\n",
    "\n",
    "# Get row count for Yellow Taxi March 2021\n",
    "yellow_march_2021_rows = count_rows(\"yellow\", 2021, [3])\n",
    "print(f\"Yellow Taxi rows for March 2021: {yellow_march_2021_rows}\")\n",
    "\n",
    "# Verify file name rendering\n",
    "rendered_file_name = f\"green_tripdata_2020-04.csv\"\n",
    "print(f\"Rendered file name: {rendered_file_name}\")\n",
    "\n",
    "# Verify timezone setting\n",
    "timezone_setting = \"America/New_York\"\n",
    "print(f\"Correct timezone configuration: timezone = '{timezone_setting}'\")\n"
   ]
  },
  {
   "cell_type": "code",
   "execution_count": null,
   "metadata": {},
   "outputs": [],
   "source": []
  },
  {
   "cell_type": "code",
   "execution_count": null,
   "metadata": {},
   "outputs": [],
   "source": []
  },
  {
   "cell_type": "code",
   "execution_count": null,
   "metadata": {},
   "outputs": [],
   "source": []
  },
  {
   "cell_type": "code",
   "execution_count": null,
   "metadata": {},
   "outputs": [],
   "source": []
  },
  {
   "cell_type": "code",
   "execution_count": null,
   "metadata": {},
   "outputs": [],
   "source": []
  },
  {
   "cell_type": "code",
   "execution_count": null,
   "metadata": {},
   "outputs": [],
   "source": []
  },
  {
   "cell_type": "code",
   "execution_count": null,
   "metadata": {},
   "outputs": [],
   "source": []
  },
  {
   "cell_type": "code",
   "execution_count": null,
   "metadata": {},
   "outputs": [],
   "source": []
  },
  {
   "cell_type": "code",
   "execution_count": null,
   "metadata": {},
   "outputs": [],
   "source": []
  },
  {
   "cell_type": "code",
   "execution_count": null,
   "metadata": {},
   "outputs": [],
   "source": []
  },
  {
   "cell_type": "code",
   "execution_count": null,
   "metadata": {},
   "outputs": [],
   "source": []
  },
  {
   "cell_type": "code",
   "execution_count": null,
   "metadata": {},
   "outputs": [],
   "source": []
  },
  {
   "cell_type": "code",
   "execution_count": null,
   "metadata": {},
   "outputs": [],
   "source": []
  },
  {
   "cell_type": "code",
   "execution_count": null,
   "metadata": {},
   "outputs": [],
   "source": []
  },
  {
   "cell_type": "code",
   "execution_count": null,
   "metadata": {},
   "outputs": [],
   "source": []
  },
  {
   "cell_type": "code",
   "execution_count": null,
   "metadata": {},
   "outputs": [],
   "source": []
  },
  {
   "cell_type": "code",
   "execution_count": null,
   "metadata": {},
   "outputs": [],
   "source": []
  },
  {
   "cell_type": "code",
   "execution_count": null,
   "metadata": {},
   "outputs": [],
   "source": []
  },
  {
   "cell_type": "code",
   "execution_count": null,
   "metadata": {},
   "outputs": [],
   "source": []
  },
  {
   "cell_type": "code",
   "execution_count": null,
   "metadata": {},
   "outputs": [],
   "source": []
  },
  {
   "cell_type": "code",
   "execution_count": null,
   "metadata": {},
   "outputs": [],
   "source": []
  }
 ],
 "metadata": {
  "kernelspec": {
   "display_name": "tensorflow_env",
   "language": "python",
   "name": "python3"
  },
  "language_info": {
   "codemirror_mode": {
    "name": "ipython",
    "version": 3
   },
   "file_extension": ".py",
   "mimetype": "text/x-python",
   "name": "python",
   "nbconvert_exporter": "python",
   "pygments_lexer": "ipython3",
   "version": "3.9.21"
  }
 },
 "nbformat": 4,
 "nbformat_minor": 2
}
